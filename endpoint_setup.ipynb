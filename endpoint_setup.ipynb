{
 "cells": [
  {
   "cell_type": "code",
   "execution_count": null,
   "metadata": {},
   "outputs": [],
   "source": [
    "import os\n",
    "\n",
    "\n",
    "account_id = os.getenv[\"AWS_ACCOUNT\"]\n",
    "image_config = {'RepositoryAccessMode': 'Platform'}\n",
    "primary_container = {\n",
    "    'ContainerHostname': 'ModelContainer',\n",
    "    'Image': f'{account_id}.dkr.ecr.us-west-2.amazonaws.com/whisper-gpu:latest',\n",
    "    'ImageConfig': image_config,\n",
    "    'ModelDataUrl': 's3://sagemaker-us-west-2-{account_id}/whisper-gpu-deploy/model/model.tar.gz'\n",
    "}\n",
    "model_name=\"whisper-gpu-model\"\n",
    "execution_role_arn = 'arn:aws:iam::{account_id}:role/SageMakerExecutionRole'"
   ]
  },
  {
   "cell_type": "code",
   "execution_count": null,
   "metadata": {},
   "outputs": [],
   "source": [
    "import boto3\n",
    "sm = boto3.client('sagemaker')\n",
    "\n",
    "try:\n",
    "    resp = sm.create_model(\n",
    "        ModelName=model_name,\n",
    "        PrimaryContainer=primary_container,\n",
    "        ExecutionRoleArn=execution_role_arn\n",
    "    )\n",
    "except Exception as e:\n",
    "    print(f'error calling CreateModel operation: {e}')\n",
    "else:\n",
    "    print(resp)"
   ]
  },
  {
   "cell_type": "code",
   "execution_count": null,
   "metadata": {},
   "outputs": [],
   "source": [
    "endpoint_config_name = 'whisper-gpu-endpoint-config'\n",
    "sm.create_endpoint_config(\n",
    "    EndpointConfigName=endpoint_config_name,\n",
    "    ProductionVariants=[\n",
    "        {\n",
    "            'VariantName': 'WhisperGpu',\n",
    "            'ModelName': model_name,\n",
    "            'InitialInstanceCount': 1,\n",
    "            'InstanceType': 'ml.p3.8xlarge'\n",
    "        },\n",
    "    ],\n",
    ")"
   ]
  },
  {
   "cell_type": "code",
   "execution_count": null,
   "metadata": {},
   "outputs": [],
   "source": [
    "endpoint_name = 'whisper-gpu-endpoint'\n",
    "sm.create_endpoint(\n",
    "    EndpointName=endpoint_name,\n",
    "    EndpointConfigName=endpoint_config_name,\n",
    ")\n",
    "sm.describe_endpoint(EndpointName=endpoint_name)"
   ]
  }
 ],
 "metadata": {
  "kernelspec": {
   "display_name": "Python 3",
   "language": "python",
   "name": "python3"
  },
  "language_info": {
   "name": "python",
   "version": "3.8.16"
  },
  "orig_nbformat": 4
 },
 "nbformat": 4,
 "nbformat_minor": 2
}
